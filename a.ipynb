{
 "cells": [
  {
   "cell_type": "code",
   "execution_count": 41,
   "metadata": {},
   "outputs": [
    {
     "name": "stdout",
     "output_type": "stream",
     "text": [
      "['what', 'is', 'my', 'name', 'and']\n",
      " what is my name and reddsa redasdas\n"
     ]
    }
   ],
   "source": [
    "from module import SequenceMatcher\n",
    "\n",
    "def compare_texts(actual_text,predicted_text):\n",
    "    matcher = SequenceMatcher(None, actual_text.split(), predicted_text.split())\n",
    "    differences = matcher.get_opcodes()\n",
    "\n",
    "    actual_value_equal = []\n",
    "    predicted_value_equal = []\n",
    "    actual_value_delete=[]\n",
    "    predicted_value_delete=[]\n",
    "    actual_value_replace=[]\n",
    "    predicted_value_replace=[]\n",
    "    for tag, i1, i2, j1, j2 in differences:\n",
    "        if tag == 'equal':\n",
    "            actual_value_equal.extend(actual_text.split()[i1:i2])\n",
    "            predicted_value_equal.extend(predicted_text.split()[j1:j2])\n",
    "        if tag==\"delete\":\n",
    "            actual_value_delete.extend(actual_text.split()[i1:i2])\n",
    "            predicted_value_delete.extend(predicted_text.split()[j1:j2])\n",
    "        if tag==\"replace\":\n",
    "            actual_value_replace.extend(actual_text.split()[i1:i2])\n",
    "            predicted_value_replace.extend(predicted_text.split()[j1:j2])\n",
    "    return actual_value_equal,predicted_value_equal\n",
    "    # return {\"replace\":{\"actual_value\":actual_value_replace,\"predicted_value\":predicted_value_replace},\"equal\":{\"actual_value\":actual_value_equal,\"predicted_value\":predicted_value_equal},\"delete\":{\"actual_value\":actual_value_delete,\"predicted_value\":predicted_value_delete}}\n",
    "\n",
    "s = \"what is my name and dsa asdas\"  \n",
    "t = \"what is my name and dsasss\"\n",
    "\n",
    "a1,a2=compare_texts(s,t)\n",
    "\n",
    "print(a2)\n",
    "data_=s.split()\n",
    "outs=\"\"\n",
    "for idx,val in enumerate(data_):\n",
    "    if val in a1 and val == a1[idx]:\n",
    "        outs+=\" \"+val\n",
    "    else:\n",
    "        outs+=\" red\"+val\n",
    "\n",
    "print(outs)"
   ]
  },
  {
   "cell_type": "code",
   "execution_count": 18,
   "metadata": {},
   "outputs": [
    {
     "data": {
      "text/plain": [
       "['I', 'using', 'compute', 'my', 'work', 'computer']"
      ]
     },
     "execution_count": 18,
     "metadata": {},
     "output_type": "execute_result"
    }
   ],
   "source": [
    "difference_finder(s,t)"
   ]
  },
  {
   "cell_type": "code",
   "execution_count": null,
   "metadata": {},
   "outputs": [],
   "source": []
  }
 ],
 "metadata": {
  "kernelspec": {
   "display_name": "Python 3",
   "language": "python",
   "name": "python3"
  },
  "language_info": {
   "codemirror_mode": {
    "name": "ipython",
    "version": 3
   },
   "file_extension": ".py",
   "mimetype": "text/x-python",
   "name": "python",
   "nbconvert_exporter": "python",
   "pygments_lexer": "ipython3",
   "version": "3.10.13"
  },
  "orig_nbformat": 4
 },
 "nbformat": 4,
 "nbformat_minor": 2
}
